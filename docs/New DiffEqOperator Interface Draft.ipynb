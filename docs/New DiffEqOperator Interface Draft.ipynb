{
 "cells": [
  {
   "cell_type": "markdown",
   "metadata": {},
   "source": [
    "# Draft for a New DiffEqOperator Interface\n",
    "\n",
    "The basic idea is instead of implementing operators as `LinearMap` (which is incorrect for affine and quasilinear operators anyways), we mimic the internals of LinearMaps.jl and construct a similar type hierarchy `DiffEqOperator`, which is like an expanded version of `LinearMap`.\n",
    "\n",
    "The most general form of a `DiffEqOperator` should look like\n",
    "\n",
    "$$ L(u,p,t)= A_{11}(u,p,t)A_{12}(u,p,t)\\ldots A_{1n_1}(u,p,t)u + \\ldots + A_{m1}(u,p,t)A_{m2}(u,p,t)\\ldots A_{mn_m}(u,p,t)u + b(u,p,t) $$\n",
    "\n",
    "where each $A_{ij}$ are themselves built up the same way recursively, with the fundamental building blocks being the identity, array and derivative operators. When the affine term $b(u,p,t) = 0$, $L$ is a quasilinear operator as it acts like a linear operator but in fact depends on $u$ (a specific example would be the nonlinear Hamiltonian from density functional theory).\n",
    "\n",
    "Apart from the interfaces for a (quasi)linear operator (operator arithmetic, `eltype`, `size`, `A_mul_B!`, ...), functionalities specific to `JuliaDiffEq` include:\n",
    "\n",
    "- Efficient representations (`as_array`) for converting the stencil operators to arrays of the most suitable form.\n",
    "\n",
    "    - Both `full` and `sparse` enforce one either the full or sparse form, so we need another method that returns the most \"appropriate\" form.\n",
    "\n",
    "- Time-dependent operators via the `update_coefficients!` interface.\n",
    "\n",
    "    - Basic types include an `update_func` field to handle their own updates;\n",
    "    \n",
    "    - Composite types (compositions and combinations) call `update_coefficients!` recursively.\n",
    "\n",
    "- `L(u,p,t)` and `L(du,u,p,t)` functor signature (for use with generic or Krylov ODE solvers).\n",
    "\n",
    "    - Should always call `update_coefficients!` first;\n",
    "\n",
    "    - The methods are defined using the \"unsafe\" `L*u` and `A_mul_B!(du,L,u)` methods defined separately for each type.\n",
    "\n",
    "## Notes/TODO\n",
    "\n",
    "- The current implementations are scattered in both DiffEqBase and DiffEqOperators. Should probably move everything inside DiffEqOperators.\n",
    "\n",
    "- Need to be careful with scalar equations (e.g. in-place style would not be valid).\n",
    "\n",
    "- Need to consider how `StaticArrays` fit.\n",
    "\n",
    "- Probably need some convenient functors to use as update functions.\n",
    "\n",
    "- Iterator interface for `DiffEqCompositeOperator` and `DiffEqOperatorCombination`."
   ]
  },
  {
   "cell_type": "code",
   "execution_count": 1,
   "metadata": {},
   "outputs": [],
   "source": [
    "import Base: +, -, *, /, A_mul_B!, eltype, size\n",
    "\n",
    "abstract type DiffEqOperator{T} end\n",
    "eltype(::DiffEqOperator{T}) where {T} = T\n",
    "size(L::DiffEqOperator, k::Int) = k <= 2 ? size(L)[k] : 1 # size(L) is defined separately for each subtype\n",
    "\n",
    "# The default update function is defined as a functor for easier type dispatching\n",
    "# For example, DiffEqConstOpCombination below\n",
    "struct DefaultUpdateFunc end\n",
    "(::DefaultUpdateFunc)(A,u,p,t) = nothing"
   ]
  },
  {
   "cell_type": "markdown",
   "metadata": {},
   "source": [
    "# Basic operators\n",
    "\n",
    "## Array operators (`WrappedMap` in LinearMaps.jl)\n",
    "\n",
    "Instead of allowing both arrays and scalars, `DiffEqArrayOperator` should only accept arrays for easier handling (one reason among others being `A_mul_B!`, which isn't defined for scalars). The internal scalar coefficient is also dropped in favor of `DiffEqOperatorCombination`. Other than that the interface is basically the same as the current implementation."
   ]
  },
  {
   "cell_type": "code",
   "execution_count": 2,
   "metadata": {},
   "outputs": [],
   "source": [
    "struct DiffEqArrayOperator{T,Arr,F} <: DiffEqOperator{T}\n",
    "    A::Arr\n",
    "    update_func::F\n",
    "end\n",
    "DiffEqArrayOperator(A::AbstractMatrix, update_func=DefaultUpdateFunc()) = \n",
    "    DiffEqArrayOperator{eltype(A),typeof(A),typeof(update_func)}(A, update_func)\n",
    "update_coefficients!(L::DiffEqArrayOperator,u,p,t) = L.update_func(L.A,u,p,t)\n",
    "size(L::DiffEqArrayOperator) = size(L.A)\n",
    "\n",
    "# Application\n",
    "*(L::DiffEqArrayOperator, u::AbstractVector) = L.A * u\n",
    "A_mul_B!(y::AbstractVector, L::DiffEqArrayOperator, x::AbstractVector) = A_mul_B!(y, L.A, x)\n",
    "\n",
    "# Representation\n",
    "as_array(L::DiffEqArrayOperator) = L.A;"
   ]
  },
  {
   "cell_type": "markdown",
   "metadata": {},
   "source": [
    "## Identity operators (`IdentityMap` in LinearMaps.jl)\n",
    "\n",
    "They are mainly for right hand side terms of the from $a(t)u$, which we interpret as $(a(t)I)u$. The scalar coefficient part is handled by `DiffEqOperatorCombination`.\n",
    "\n",
    "In accordance with the `size` interface of other operators, we need to explicitly provide the dimension in the constructor."
   ]
  },
  {
   "cell_type": "code",
   "execution_count": 3,
   "metadata": {},
   "outputs": [],
   "source": [
    "struct DiffEqIdOperator{T} <: DiffEqOperator{T}\n",
    "    M::Int\n",
    "end\n",
    "update_coefficients!(L::DiffEqIdOperator,u,p,t) = nothing\n",
    "size(L::DiffEqIdOperator) = (L.M, L.M)\n",
    "\n",
    "# Application\n",
    "*(L::DiffEqIdOperator, u) = u\n",
    "A_mul_B!(y, L::DiffEqIdOperator, x) = copy!(y, x)\n",
    "\n",
    "# Representation\n",
    "as_array(L::DiffEqIdOperator{T}) where {T} = Diagonal(ones(T, L.M, L.M));"
   ]
  },
  {
   "cell_type": "markdown",
   "metadata": {},
   "source": [
    "## Derivative Operators\n",
    "\n",
    "The definition of derivative operators should remain mostly unchanged except for `as_array`."
   ]
  },
  {
   "cell_type": "markdown",
   "metadata": {},
   "source": [
    "# Operators built upon the basic operators\n",
    "\n",
    "## Compositions (`CompositeMap` in LinearMaps.jl)\n",
    "\n",
    "The `DiffEqCompositeOperator` type is basically a tuple of `DiffEqOperator`. The operators are stored in the order of application, so `L1*L2*L3` is stored as `(L3,L2,L1)`.\n",
    "\n",
    "What's different from `CompositeMap` is that a series of intermediate caches is allocated a priori to avoid the need to allocate memory during `A_mul_B!`.\n",
    "\n",
    "TODO: \n",
    "\n",
    "- Check dimension mismatch errors.\n",
    "\n",
    "- Allow for custom array types for the caches (adding a `u_prototype` argument to the constructor?)."
   ]
  },
  {
   "cell_type": "code",
   "execution_count": 4,
   "metadata": {},
   "outputs": [],
   "source": [
    "struct DiffEqCompositeOperator{T} <: DiffEqOperator{T}\n",
    "    ops::Tuple{Vararg{DiffEqOperator{T}}}\n",
    "    caches::Vector{Vector{T}}\n",
    "end\n",
    "function DiffEqCompositeOperator(ops::DiffEqOperator{T}...) where {T}\n",
    "    # Initialize the intermediate caches\n",
    "    caches = Vector{Vector{T}}()\n",
    "    for op in ops[1:end-1]\n",
    "        c = Vector{T}(size(op, 1))\n",
    "        push!(caches, c)\n",
    "    end\n",
    "    DiffEqCompositeOperator{T}(ops, caches)\n",
    "end\n",
    "update_coefficients!(L::DiffEqCompositeOperator,u,p,t) = foreach(op -> update_coefficients!(op,u,p,t), L.ops)\n",
    "size(L::DiffEqCompositeOperator) = (size(L.ops[end], 1), size(L.ops[1], 2))\n",
    "\n",
    "# Application\n",
    "*(L::DiffEqCompositeOperator, u) = foldl((x, op) -> op*x, u, L.ops) # should we define this using A_mul_B! ?\n",
    "function A_mul_B!(y, L::DiffEqCompositeOperator, x)\n",
    "    N = length(L.ops)\n",
    "    if N == 1\n",
    "        A_mul_B!(y, L.ops[1], x)\n",
    "    else\n",
    "        A_mul_B!(L.caches[1], L.ops[1], x)\n",
    "        for i in 2:N-1\n",
    "            A_mul_B!(L.caches[i], L.ops[i], L.caches[i-1])\n",
    "        end\n",
    "        A_mul_B!(y, L.ops[end], L.caches[end])\n",
    "    end\n",
    "end\n",
    "\n",
    "# Representation\n",
    "as_array(L::DiffEqCompositeOperator) = prod(as_array, reverse(L.ops));"
   ]
  },
  {
   "cell_type": "markdown",
   "metadata": {},
   "source": [
    "## Linear Combinations (`LinearCombination` in LinearMaps.jl)\n",
    "\n",
    "Like `LinearCombination` (and unlike the `AffineDiffEqOperator` in DiffEqBase.jl), coefficients are explicitly included. The rationale is that operations involving scalars can usually be optimized. The alternative method would be to implement a `DiffEqScalarOperator` type and treat `c_1*A + c_2*B` as a combination of two composite operators `c_1*A` and `c_2*B`.\n",
    "\n",
    "The coefficients are implemented as vectors instead of tuples so that they can be mutated by the update function (will this cause a performance issue?)\n",
    "\n",
    "As with the case of composite operators, a cache is used to speed up `A_mul_B!`."
   ]
  },
  {
   "cell_type": "code",
   "execution_count": 5,
   "metadata": {},
   "outputs": [],
   "source": [
    "struct DiffEqOperatorCombination{T,F} <: DiffEqOperator{T}\n",
    "    ops::Tuple{Vararg{DiffEqOperator{T}}}\n",
    "    coeffs::Vector{T}\n",
    "    cache::Vector{T}\n",
    "    update_func::F\n",
    "end\n",
    "function DiffEqOperatorCombination(ops::Tuple{Vararg{DiffEqOperator{T}}}, coeffs=nothing, \n",
    "        update_func=DefaultUpdateFunc()) where {T}\n",
    "    if coeffs == nothing\n",
    "        coeffs = ones(T, length(ops))\n",
    "    else\n",
    "        coeffs = collect(coeffs) # make sure is array\n",
    "    end\n",
    "    cache = Vector{T}(size(ops[1], 1))\n",
    "    DiffEqOperatorCombination{T,typeof(update_func)}(ops, coeffs, cache, update_func)\n",
    "end\n",
    "function update_coefficients!(L::DiffEqOperatorCombination,u,p,t)\n",
    "    L.update_func(L.coeffs,u,p,t)\n",
    "    for op in L.ops\n",
    "        update_coefficients!(op,u,p,t)\n",
    "    end\n",
    "end\n",
    "size(L::DiffEqOperatorCombination) = size(L.ops[1])\n",
    "\n",
    "# Application\n",
    "*(L::DiffEqOperatorCombination, u) = sum(c * (op * u) for (c,op) in zip(L.coeffs,L.ops))\n",
    "function A_mul_B!(y, L::DiffEqOperatorCombination{T}, x) where {T}\n",
    "    A_mul_B!(y, L.ops[1], x)\n",
    "    L.coeffs[1] == one(T) || scale!(L.coeffs[1], y) # is this necessary?\n",
    "    for (c,op) in zip(L.coeffs[2:end], L.ops[2:end])\n",
    "        A_mul_B!(L.cache, op, x)\n",
    "        if c == one(T)\n",
    "            y .+= L.cache\n",
    "        else\n",
    "            @. y += c * L.cache\n",
    "            # Base.axpy!(c, L.cache, y) # better?\n",
    "        end\n",
    "    end\n",
    "    return y\n",
    "end\n",
    "\n",
    "# Representation\n",
    "as_array(L::DiffEqOperatorCombination) = sum(i -> L.coeffs[i] * as_array(L.ops[i]), 1:length(L.ops));"
   ]
  },
  {
   "cell_type": "markdown",
   "metadata": {},
   "source": [
    "## Affine operator"
   ]
  },
  {
   "cell_type": "code",
   "execution_count": 6,
   "metadata": {},
   "outputs": [],
   "source": [
    "struct DiffEqAffineOperator{T,F} <: DiffEqOperator{T}\n",
    "    A::DiffEqOperator{T}\n",
    "    b::AbstractVector{T}\n",
    "    update_func::F\n",
    "end\n",
    "DiffEqAffineOperator(A::DiffEqOperator{T}, b::AbstractVector{T}, update_func=DefaultUpdateFunc()) where {T} = \n",
    "    DiffEqAffineOperator{T,typeof(update_func)}(A,b,update_func)\n",
    "update_coefficients!(L::DiffEqAffineOperator,u,p,t) = (update_coefficients!(A,u,p,t); L.update_func(b,u,p,t))\n",
    "size(L::DiffEqAffineOperator) = size(L.A)\n",
    "\n",
    "# Application\n",
    "*(L::DiffEqAffineOperator, u) = L.A * u + b\n",
    "A_mul_B!(y, L::DiffEqAffineOperator, x) = (A_mul_B!(y,L.A,x); y .+= b)\n",
    "\n",
    "# Representation\n",
    "# Ax + b == [A b] * [x;1]\n",
    "as_array(L::DiffEqAffineOperator) = hcat(as_array(L.A), b);"
   ]
  },
  {
   "cell_type": "markdown",
   "metadata": {},
   "source": [
    "## Operator arithmetics\n",
    "\n",
    "Arithmetics on linear combinations with non-constant coefficients are a bit tricky (though not impossible). The constant version is easy and we can dispatch types using the `UnionAll` type definition feature."
   ]
  },
  {
   "cell_type": "code",
   "execution_count": 7,
   "metadata": {},
   "outputs": [
    {
     "data": {
      "text/plain": [
       "DiffEqOperatorCombination{T,DefaultUpdateFunc} where T"
      ]
     },
     "execution_count": 7,
     "metadata": {},
     "output_type": "execute_result"
    }
   ],
   "source": [
    "const DiffEqConstOpCombination = DiffEqOperatorCombination{T,DefaultUpdateFunc} where {T}"
   ]
  },
  {
   "cell_type": "code",
   "execution_count": 8,
   "metadata": {},
   "outputs": [],
   "source": [
    "# op + op\n",
    "+(L1::DiffEqConstOpCombination{T}, L2::DiffEqConstOpCombination{T}) where {T} = DiffEqOperatorCombination(\n",
    "    tuple(L1.ops..., L2.ops...), vcat(L1.coeffs, L2.coeffs))\n",
    "+(L1::DiffEqConstOpCombination{T}, L2::DiffEqOperator{T}) where {T} = DiffEqOperatorCombination(\n",
    "    tuple(L1.ops..., L2), vcat(L1.coeffs, one(T)))\n",
    "+(L1::DiffEqOperator{T}, L2::DiffEqConstOpCombination{T}) where {T} = DiffEqOperatorCombination(\n",
    "    tuple(L1, L2.ops...), vcat(one(T), L2.coeffs))\n",
    "+(L1::DiffEqOperator{T}, L2::DiffEqOperator{T}) where {T} = DiffEqOperatorCombination((L1,L2), ones(T,2))\n",
    "\n",
    "# scalar * op and op * scalar\n",
    "*(a::T, L::DiffEqConstOpCombination{T}) where {T} = DiffEqOperatorCombination(L.ops, a*L.coeffs)\n",
    "*(L::DiffEqConstOpCombination{T}, a::T) where {T} = DiffEqOperatorCombination(L.ops, a*L.coeffs)\n",
    "*(a::T, L::DiffEqOperator{T}) where {T} = DiffEqOperatorCombination((L,), (a,))\n",
    "*(L::DiffEqOperator{T}, a::T) where {T} = DiffEqOperatorCombination((L,), (a,))\n",
    "\n",
    "# op * op\n",
    "# Note the application order\n",
    "*(L1::DiffEqCompositeOperator{T}, L2::DiffEqCompositeOperator{T}) where {T} = DiffEqCompositeOperator(L2.ops..., L1.ops...)\n",
    "*(L1::DiffEqOperator{T}, L2::DiffEqCompositeOperator{T}) where {T} = DiffEqCompositeOperator(L2.ops..., L1)\n",
    "*(L1::DiffEqCompositeOperator{T}, L2::DiffEqOperator{T}) where {T} = DiffEqCompositeOperator(L2, L1.ops...)\n",
    "*(L1::DiffEqOperator{T}, L2::DiffEqOperator{T}) where {T} = DiffEqCompositeOperator(L2, L1);"
   ]
  },
  {
   "cell_type": "markdown",
   "metadata": {},
   "source": [
    "## Operator concatenations\n",
    "\n",
    "In some applications the domain/grid $\\mathbf{u}$ is composed of different regions (e.g. each region corresponding to a different physical region or the same region but with different discrete states)\n",
    "\n",
    "$$ \\mathbf{u} = \\begin{pmatrix} \\mathbf{u}_1 \\\\ \\mathbf{u}_2 \\\\ \\vdots \\\\ \\mathbf{u}_m \\end{pmatrix} $$\n",
    "\n",
    "For each region $k$, there's a correpsonding differential operator $L_k$, and the combined operator $L$ can be expressed as a block diagonal matrix\n",
    "\n",
    "$$ L\\mathbf{u} = \\begin{pmatrix} L_1\\mathbf{u}_1 \\\\ L_2\\mathbf{u}_2 \\\\ \\vdots \\\\ L_m\\mathbf{u}_m \\end{pmatrix}, \\quad L = \\begin{pmatrix} L_1 & 0 & \\cdots & 0 \\\\ 0 & L_2 & \\cdots & 0 \\\\ \\vdots & \\vdots & \\ddots & \\vdots \\\\ 0 & 0 & \\cdots & L_m \\end{pmatrix} $$\n",
    "\n",
    "Formally, $\\mathbf{u}$ is the direct sum $\\mathbf{u}_1 \\oplus \\mathbf{u}_2 \\oplus \\cdots \\oplus \\mathbf{u}_m$ and $L$ is the direct sum $L_1 \\oplus L_2 \\oplus \\cdots \\oplus L_m$.\n",
    "\n",
    "Implementation-wise, subarray views (the `@views` macro) are used for faster indexing.\n",
    "\n",
    "Note: the current version works only for vectors with linear indexing."
   ]
  },
  {
   "cell_type": "code",
   "execution_count": 9,
   "metadata": {},
   "outputs": [
    {
     "data": {
      "text/plain": [
       "as_array (generic function with 6 methods)"
      ]
     },
     "execution_count": 9,
     "metadata": {},
     "output_type": "execute_result"
    }
   ],
   "source": [
    "import Base.blkdiag\n",
    "struct DiffEqBlkDiagOperator{T} <: DiffEqOperator{T}\n",
    "    ops::Tuple{Vararg{DiffEqOperator{T}}}\n",
    "end\n",
    "blkdiag(ops::DiffEqOperator{T}...) where {T} = DiffEqBlkDiagOperator{T}(ops)\n",
    "update_coefficients!(L::DiffEqBlkDiagOperator,u,p,t) = foreach(op -> update_coefficients!(op,u,p,t), L.ops)\n",
    "size(L::DiffEqBlkDiagOperator) = (sum(op -> size(op,1), L.ops), sum(op -> size(op,2), L.ops))\n",
    "\n",
    "# Application\n",
    "function *(L::DiffEqBlkDiagOperator, u::AbstractVector)\n",
    "    vs = Vector{AbstractVector}()\n",
    "    istart = 1\n",
    "    for op in L.ops\n",
    "        iend = istart + size(op, 2)\n",
    "        @views push!(vs, op * u[istart:iend-1])\n",
    "        istart = iend\n",
    "    end\n",
    "    reduce(vcat, vs)\n",
    "end\n",
    "function A_mul_B!(y::AbstractVector, L::DiffEqBlkDiagOperator, x::AbstractVector)\n",
    "    istart = 1 # istart & iend tracks index for x\n",
    "    jstart = 1 # jstart & jend tracks index for y\n",
    "    for op in L.ops\n",
    "        iend = istart + size(op, 2); jend = jstart + size(op, 1)\n",
    "        @views A_mul_B!(y[jstart:jend-1], op, x[istart:iend-1])\n",
    "        istart = iend; jstart = jend\n",
    "    end\n",
    "    return y\n",
    "end\n",
    "\n",
    "# Representation\n",
    "# We need to differentiate between full and sparse case as `Base.blkdiag` only \n",
    "# supports sparse matrices\n",
    "function as_array(L::DiffEqBlkDiagOperator{T}) where {T}\n",
    "    As = map(as_array, L.ops)\n",
    "    if all(issparse, As)\n",
    "        return blkdiag(As...)\n",
    "    else\n",
    "        out = zeros(T, size(L))\n",
    "        istart = 1\n",
    "        jstart = 1\n",
    "        for A in As\n",
    "            iend = istart + size(A, 2); jend = jstart + size(A, 1)\n",
    "            out[jstart:jend-1, istart:iend-1] = A\n",
    "            istart = iend; jstart = jend\n",
    "        end\n",
    "        return out\n",
    "    end\n",
    "end"
   ]
  },
  {
   "cell_type": "markdown",
   "metadata": {},
   "source": [
    "TODO: In general, we may encounter operators constructed by row/column stacking operators. (possibly interface with BlockArrays.jl?)"
   ]
  },
  {
   "cell_type": "markdown",
   "metadata": {},
   "source": [
    "## Operators on high-dimensional spaces\n",
    "\n",
    "When a PDE is discretized on a high-dimensional space, it is natural to think of the solution vector $\\mathbf{u}$ as a $D$-dimensional array. A (quasi)linear operator on $\\mathbf{u}$ can usually be expressed as the tensor product $L = L_D \\otimes L_{D-1} \\otimes \\cdots \\otimes L_1$, where each of the $L_j$ acts on the $j$th dimension of $\\mathbf{u}$.\n",
    "\n",
    "Sometimes it is preferrable to use the \"flattened\" version of $\\mathbf{u}$, `vec(u)` for linear solvers, etc that require vector inputs. The matrix of $L$ in this case can be calculated using the Kronecker product `kron`. It is also possible to create lazy versions of the Kronecker product for the differential operators, which is similar to what `DiffEqCompositeOperator` does. A `DiffEqKronProd` for two operators is implemented below:"
   ]
  },
  {
   "cell_type": "code",
   "execution_count": 10,
   "metadata": {},
   "outputs": [
    {
     "data": {
      "text/plain": [
       "as_array (generic function with 7 methods)"
      ]
     },
     "execution_count": 10,
     "metadata": {},
     "output_type": "execute_result"
    }
   ],
   "source": [
    "import Base.kron\n",
    "struct DiffEqKronProd{T} <: DiffEqOperator{T}\n",
    "    A::DiffEqOperator{T}\n",
    "    B::DiffEqOperator{T}\n",
    "    cache::Matrix{T}\n",
    "end\n",
    "function DiffEqKronProd(A::DiffEqOperator{T}, B::DiffEqOperator{T}) where {T}\n",
    "    cache = Matrix{T}(size(B,1), size(A,2))\n",
    "    DiffEqKronProd{T}(A, B, cache)\n",
    "end\n",
    "kron(L1::DiffEqOperator{T}, L2::DiffEqOperator{T}) where {T} = DiffEqKronProd(L1, L2)\n",
    "update_coefficients!(L::DiffEqKronProd,u,p,t) = (update_coefficients!(L.A,u,p,t); update_coefficients!(L.B,u,p,t))\n",
    "size(L::DiffEqKronProd) = (size(L.A,1) * size(L.B,1), size(L.A,2) * size(L.B,2))\n",
    "\n",
    "# Application\n",
    "function *(L::DiffEqKronProd, u::AbstractVector)\n",
    "    U = reshape(u, size(L.B,2), size(L.A,2))\n",
    "    V = zeros(eltype(L), size(L.B,1), size(L.A,1))\n",
    "    # Apply B to each column\n",
    "    for j = 1:size(U,2)\n",
    "        L.cache[:,j] = L.B * U[:,j]\n",
    "    end\n",
    "    # Apply A to each row\n",
    "    for i = 1:size(V,1)\n",
    "        V[i,:] = L.A * L.cache[i,:]\n",
    "    end\n",
    "    return vec(V)\n",
    "end\n",
    "function A_mul_B!(y::AbstractVector, L::DiffEqKronProd, x::AbstractVector)\n",
    "    X = reshape(x, size(L.B,2), size(L.A,2))\n",
    "    Y = reshape(y, size(L.B,1), size(L.A,1)) # reshape creates an alias\n",
    "    # Apply B to each column\n",
    "    for j = 1:size(X,2)\n",
    "        @views A_mul_B!(L.cache[:,j], L.B, X[:,j])\n",
    "    end\n",
    "    # Apply A to each row\n",
    "    for i = 1:size(Y,1)\n",
    "        @views A_mul_B!(Y[i,:], L.A, L.cache[i,:])\n",
    "    end\n",
    "    return y\n",
    "end\n",
    "\n",
    "# Representation\n",
    "as_array(L::DiffEqKronProd) = kron(as_array(L.A), as_array(L.B))"
   ]
  },
  {
   "cell_type": "markdown",
   "metadata": {},
   "source": [
    "The Kronecker sum $A \\oplus B$ of two square matrices is defined as $A \\otimes I_m + I_n \\otimes B$, where $n$ and $m$ are respectively the width of $A$ and $B$ (the name \"Kronecker sum\" is a bit misleading because it is not really a commutative operation; also $\\oplus$ is sometimes used as the direct sum). It is frequently used to construct the Laplacian, which in $N$-dimension is\n",
    "\n",
    "$$ \\Delta = \\underbrace{D^2 \\oplus D^2 \\oplus \\cdots \\oplus D^2}_{N} $$\n",
    "\n",
    "where $D^2$ is the one-dimensional Laplacian.\n",
    "\n",
    "Again we define the Kronecker sum using the lazy Kronecker product and the identity operators. This is not optimal though; we can probably construct a separate `DiffEqKronSum` type that works like `DiffEqOperatorCombination`."
   ]
  },
  {
   "cell_type": "code",
   "execution_count": 11,
   "metadata": {},
   "outputs": [
    {
     "data": {
      "text/plain": [
       "kron_sum (generic function with 1 method)"
      ]
     },
     "execution_count": 11,
     "metadata": {},
     "output_type": "execute_result"
    }
   ],
   "source": [
    "function kron_sum(A::DiffEqOperator{T}, B::DiffEqOperator{T}) where {T}\n",
    "    @assert size(A,1) == size(A,2) && size(B,1) == size(B,2) \"Dimension mismatch!\"\n",
    "    Ia = DiffEqIdOperator{T}(size(A,1))\n",
    "    Ib = DiffEqIdOperator{T}(size(B,1))\n",
    "    kron(A,Ib) + kron(Ia,B)\n",
    "end"
   ]
  },
  {
   "cell_type": "markdown",
   "metadata": {},
   "source": [
    "# `L(u,p,t)` and `L(du,u,p,t)` Interface"
   ]
  },
  {
   "cell_type": "code",
   "execution_count": 12,
   "metadata": {},
   "outputs": [],
   "source": [
    "# Defining functors for abstract types is currently not supported in Julia\n",
    "# (L::DiffEqOperator)(u,p,t) = (update_coefficients!(L,u,p,t); L * u)\n",
    "# (L::DiffEqOperator)(du,u,p,t) = (update_coefficients!(L,u,p,t); A_mul_B!(du,L,u))\n",
    "\n",
    "# Instead, define for each subtype of DiffEqOperator\n",
    "for T in subtypes(DiffEqOperator)\n",
    "    (L::T)(u,p,t) = (update_coefficients!(L,u,p,t); L * u)\n",
    "    (L::T)(du,u,p,t) = (update_coefficients!(L,u,p,t); A_mul_B!(du,L,u))\n",
    "end"
   ]
  },
  {
   "cell_type": "markdown",
   "metadata": {},
   "source": [
    "# Example"
   ]
  },
  {
   "cell_type": "code",
   "execution_count": 13,
   "metadata": {},
   "outputs": [],
   "source": [
    "N = 5\n",
    "a = 2.0\n",
    "laplacian = spdiagm((ones(N-1), -2*ones(N), ones(N-1)), (-1,0,1))\n",
    "Lap = DiffEqArrayOperator(laplacian)\n",
    "A = a * DiffEqIdOperator{Float64}(N)\n",
    "L = Lap + A;"
   ]
  },
  {
   "cell_type": "code",
   "execution_count": 14,
   "metadata": {},
   "outputs": [
    {
     "name": "stdout",
     "output_type": "stream",
     "text": [
      "typeof(L) = DiffEqOperatorCombination{Float64,DefaultUpdateFunc}\n",
      "L.ops = (DiffEqArrayOperator{Float64,SparseMatrixCSC{Float64,Int64},DefaultUpdateFunc}(\n",
      "  [1, 1]  =  -2.0\n",
      "  [2, 1]  =  1.0\n",
      "  [1, 2]  =  1.0\n",
      "  [2, 2]  =  -2.0\n",
      "  [3, 2]  =  1.0\n",
      "  [2, 3]  =  1.0\n",
      "  [3, 3]  =  -2.0\n",
      "  [4, 3]  =  1.0\n",
      "  [3, 4]  =  1.0\n",
      "  [4, 4]  =  -2.0\n",
      "  [5, 4]  =  1.0\n",
      "  [4, 5]  =  1.0\n",
      "  [5, 5]  =  -2.0, DefaultUpdateFunc()), DiffEqIdOperator{Float64}(5))\n",
      "L.coeffs = [1.0, 2.0]\n"
     ]
    }
   ],
   "source": [
    "# Internals of L\n",
    "@show typeof(L)\n",
    "@show L.ops\n",
    "@show L.coeffs;"
   ]
  },
  {
   "cell_type": "code",
   "execution_count": 15,
   "metadata": {},
   "outputs": [
    {
     "data": {
      "text/plain": [
       "true"
      ]
     },
     "execution_count": 15,
     "metadata": {},
     "output_type": "execute_result"
    }
   ],
   "source": [
    "u = rand(5)\n",
    "p = nothing; t = 0.0\n",
    "laplacian * u + a * u ≈ L(u,p,t)"
   ]
  },
  {
   "cell_type": "code",
   "execution_count": 16,
   "metadata": {},
   "outputs": [
    {
     "data": {
      "text/plain": [
       "true"
      ]
     },
     "execution_count": 16,
     "metadata": {},
     "output_type": "execute_result"
    }
   ],
   "source": [
    "du = zeros(5)\n",
    "L(du,u,p,t)\n",
    "laplacian * u + a * u ≈ du"
   ]
  },
  {
   "cell_type": "code",
   "execution_count": 17,
   "metadata": {},
   "outputs": [
    {
     "data": {
      "text/plain": [
       "true"
      ]
     },
     "execution_count": 17,
     "metadata": {},
     "output_type": "execute_result"
    }
   ],
   "source": [
    "as_array(L) ≈ laplacian + a*I"
   ]
  },
  {
   "cell_type": "markdown",
   "metadata": {},
   "source": [
    "## Operator concatenation"
   ]
  },
  {
   "cell_type": "code",
   "execution_count": 18,
   "metadata": {},
   "outputs": [
    {
     "data": {
      "text/plain": [
       "true"
      ]
     },
     "execution_count": 18,
     "metadata": {},
     "output_type": "execute_result"
    }
   ],
   "source": [
    "B = DiffEqArrayOperator(rand(10,10))\n",
    "L = blkdiag(Lap,B)\n",
    "u = rand(15)\n",
    "L * u ≈ vcat(laplacian * u[1:5], B.A * u[6:15])"
   ]
  },
  {
   "cell_type": "code",
   "execution_count": 19,
   "metadata": {},
   "outputs": [
    {
     "data": {
      "text/plain": [
       "true"
      ]
     },
     "execution_count": 19,
     "metadata": {},
     "output_type": "execute_result"
    }
   ],
   "source": [
    "du = zeros(15)\n",
    "A_mul_B!(du, L, u)\n",
    "du ≈ vcat(laplacian * u[1:5], B.A * u[6:15])"
   ]
  },
  {
   "cell_type": "code",
   "execution_count": 20,
   "metadata": {},
   "outputs": [
    {
     "data": {
      "text/plain": [
       "15×15 Array{Float64,2}:\n",
       " -2.0   1.0   0.0   0.0   0.0  0.0       …  0.0         0.0       0.0      \n",
       "  1.0  -2.0   1.0   0.0   0.0  0.0          0.0         0.0       0.0      \n",
       "  0.0   1.0  -2.0   1.0   0.0  0.0          0.0         0.0       0.0      \n",
       "  0.0   0.0   1.0  -2.0   1.0  0.0          0.0         0.0       0.0      \n",
       "  0.0   0.0   0.0   1.0  -2.0  0.0          0.0         0.0       0.0      \n",
       "  0.0   0.0   0.0   0.0   0.0  0.321427  …  0.302346    0.312952  0.741237 \n",
       "  0.0   0.0   0.0   0.0   0.0  0.33676      0.167809    0.913174  0.215875 \n",
       "  0.0   0.0   0.0   0.0   0.0  0.847332     0.00465073  0.715865  0.797013 \n",
       "  0.0   0.0   0.0   0.0   0.0  0.120287     0.0160063   0.197975  0.552528 \n",
       "  0.0   0.0   0.0   0.0   0.0  0.157538     0.367312    0.772254  0.933306 \n",
       "  0.0   0.0   0.0   0.0   0.0  0.200154  …  0.775968    0.582819  0.222858 \n",
       "  0.0   0.0   0.0   0.0   0.0  0.605551     0.846206    0.181095  0.0560462\n",
       "  0.0   0.0   0.0   0.0   0.0  0.91548      0.443588    0.191295  0.259424 \n",
       "  0.0   0.0   0.0   0.0   0.0  0.300383     0.501348    0.527006  0.704292 \n",
       "  0.0   0.0   0.0   0.0   0.0  0.339053     0.938042    0.034867  0.770381 "
      ]
     },
     "execution_count": 20,
     "metadata": {},
     "output_type": "execute_result"
    }
   ],
   "source": [
    "as_array(L)"
   ]
  },
  {
   "cell_type": "markdown",
   "metadata": {},
   "source": [
    "## Multidimensional operators\n",
    "\n",
    "Kronecker product"
   ]
  },
  {
   "cell_type": "code",
   "execution_count": 21,
   "metadata": {},
   "outputs": [],
   "source": [
    "const ⊗ = kron\n",
    "\n",
    "L1 = DiffEqArrayOperator(rand(4,5))\n",
    "L2 = DiffEqArrayOperator(rand(6,7))\n",
    "u = rand(5*7)\n",
    "du = zeros(4*6)\n",
    "L = L1 ⊗ L2;"
   ]
  },
  {
   "cell_type": "code",
   "execution_count": 23,
   "metadata": {},
   "outputs": [
    {
     "data": {
      "text/plain": [
       "true"
      ]
     },
     "execution_count": 23,
     "metadata": {},
     "output_type": "execute_result"
    }
   ],
   "source": [
    "L * u ≈ (L1.A ⊗ L2.A) * u"
   ]
  },
  {
   "cell_type": "code",
   "execution_count": 24,
   "metadata": {},
   "outputs": [
    {
     "data": {
      "text/plain": [
       "true"
      ]
     },
     "execution_count": 24,
     "metadata": {},
     "output_type": "execute_result"
    }
   ],
   "source": [
    "A_mul_B!(du,L,u)\n",
    "du ≈ (L1.A ⊗ L2.A) * u"
   ]
  },
  {
   "cell_type": "markdown",
   "metadata": {},
   "source": [
    "Kronecker sum"
   ]
  },
  {
   "cell_type": "code",
   "execution_count": 26,
   "metadata": {},
   "outputs": [],
   "source": [
    "const ⊕ = kron_sum\n",
    "\n",
    "Nx = 10; Ny = 20\n",
    "Dxx = DiffEqArrayOperator(spdiagm((ones(Nx-1), -2*ones(Nx), ones(Nx-1)), (-1,0,1)))\n",
    "Dyy = DiffEqArrayOperator(spdiagm((ones(Ny-1), -2*ones(Ny), ones(Ny-1)), (-1,0,1)))\n",
    "Lap = Dxx ⊕ Dyy;"
   ]
  },
  {
   "cell_type": "code",
   "execution_count": 27,
   "metadata": {},
   "outputs": [
    {
     "data": {
      "text/plain": [
       "true"
      ]
     },
     "execution_count": 27,
     "metadata": {},
     "output_type": "execute_result"
    }
   ],
   "source": [
    "U = rand(Ny, Nx)\n",
    "u = vec(U)\n",
    "v = Lap * u\n",
    "V = reshape(v, Ny, Nx)\n",
    "V ≈ Dyy.A * U + U * Dxx.A"
   ]
  },
  {
   "cell_type": "code",
   "execution_count": null,
   "metadata": {},
   "outputs": [],
   "source": []
  }
 ],
 "metadata": {
  "kernelspec": {
   "display_name": "Julia 0.6.2",
   "language": "julia",
   "name": "julia-0.6"
  },
  "language_info": {
   "file_extension": ".jl",
   "mimetype": "application/julia",
   "name": "julia",
   "version": "0.6.2"
  }
 },
 "nbformat": 4,
 "nbformat_minor": 2
}
